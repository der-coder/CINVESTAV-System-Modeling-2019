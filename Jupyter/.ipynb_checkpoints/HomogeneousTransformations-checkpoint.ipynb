{
 "cells": [
  {
   "cell_type": "code",
   "execution_count": null,
   "metadata": {},
   "outputs": [],
   "source": [
    "import numpy as np\n",
    "import math as mt\n",
    "import sympy as sym"
   ]
  },
  {
   "cell_type": "code",
   "execution_count": null,
   "metadata": {},
   "outputs": [],
   "source": [
    "theta = sym.Symbol('theta')\n",
    "alpha = sym.Symbol('alpha')\n",
    "\n",
    "costheta = sym.Symbol('costheta')\n",
    "cosalpha = sym.Symbol('cosalpha')\n",
    "\n",
    "sintheta = sym.Symbol('sintheta')\n",
    "sinalpha = sym.Symbol('sinalpha')\n",
    "\n",
    "l1 = sym.Symbol('l1')\n",
    "l2 = sym.Symbol('l2')"
   ]
  },
  {
   "cell_type": "code",
   "execution_count": 2,
   "metadata": {},
   "outputs": [
    {
     "data": {
      "text/plain": [
       "(theta, alpha, l1, l2, costheta, cosalpha, sintheta, sinalpha)"
      ]
     },
     "execution_count": 2,
     "metadata": {},
     "output_type": "execute_result"
    }
   ],
   "source": [
    "var('theta alpha l1 l2 costheta cosalpha sintheta sinalpha')"
   ]
  },
  {
   "cell_type": "code",
   "execution_count": null,
   "metadata": {},
   "outputs": [],
   "source": [
    "A_1 = np.array([[costheta, -sintheta, 0, l1*sintheta],[sintheta,costheta, 0, l1*costheta],[0,0,1,0],[0,0,0,1]])\n",
    "\n",
    "A_2 = np.array([[cosalpha,-sinalpha, 0,l2*sinalpha],[sinalpha, cosalpha, 0, l2*cosalpha],[0,0,1,0],[0,0,0,1]])"
   ]
  },
  {
   "cell_type": "code",
   "execution_count": null,
   "metadata": {},
   "outputs": [],
   "source": [
    "A_1 A_2"
   ]
  },
  {
   "cell_type": "code",
   "execution_count": 4,
   "metadata": {},
   "outputs": [],
   "source": [
    "a1 = matrix(SR, [[costheta, -sintheta, 0, l1*sintheta],[sintheta,costheta, 0, l1*costheta],[0,0,1,0],[0,0,0,1]])\n",
    "a2 = matrix(SR,[[cosalpha,-sinalpha, 0,l2*sinalpha],[sinalpha, cosalpha, 0, l2*cosalpha],[0,0,1,0],[0,0,0,1]])"
   ]
  },
  {
   "cell_type": "code",
   "execution_count": 5,
   "metadata": {},
   "outputs": [
    {
     "data": {
      "text/plain": [
       "[                    cosalpha*costheta - sinalpha*sintheta                    -costheta*sinalpha - cosalpha*sintheta                                                         0 costheta*l2*sinalpha - cosalpha*l2*sintheta + l1*sintheta]\n",
       "[                    costheta*sinalpha + cosalpha*sintheta                     cosalpha*costheta - sinalpha*sintheta                                                         0 cosalpha*costheta*l2 + l2*sinalpha*sintheta + costheta*l1]\n",
       "[                                                        0                                                         0                                                         1                                                         0]\n",
       "[                                                        0                                                         0                                                         0                                                         1]"
      ]
     },
     "execution_count": 5,
     "metadata": {},
     "output_type": "execute_result"
    }
   ],
   "source": [
    "a1*a2"
   ]
  },
  {
   "cell_type": "code",
   "execution_count": null,
   "metadata": {},
   "outputs": [],
   "source": []
  }
 ],
 "metadata": {
  "kernelspec": {
   "display_name": "SageMath 8.9",
   "language": "sage",
   "name": "sagemath"
  },
  "language_info": {
   "codemirror_mode": {
    "name": "ipython",
    "version": 2
   },
   "file_extension": ".py",
   "mimetype": "text/x-python",
   "name": "python",
   "nbconvert_exporter": "python",
   "pygments_lexer": "ipython2",
   "version": "2.7.16"
  }
 },
 "nbformat": 4,
 "nbformat_minor": 4
}
