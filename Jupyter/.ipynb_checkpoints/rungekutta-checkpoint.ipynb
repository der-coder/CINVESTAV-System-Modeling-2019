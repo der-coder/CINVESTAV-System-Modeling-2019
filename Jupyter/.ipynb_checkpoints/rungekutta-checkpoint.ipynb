{
 "cells": [
  {
   "cell_type": "markdown",
   "metadata": {},
   "source": [
    "# Numerical Integration Methods | Runge-Kutta"
   ]
  },
  {
   "cell_type": "markdown",
   "metadata": {},
   "source": [
    "> In numerical analysis, the Runge–Kutta methods are a family of implicit and explicit iterative methods, which include the well-known routine called the Euler Method, used in temporal discretization for the approximate solutions of ordinary differential equations. These methods were developed around 1900 by the German mathematicians C. Runge and M. W. Kutta.\n",
    "\n",
    "[Wikipedia](https://en.wikipedia.org/wiki/Runge-Kutta_methods)\n",
    "\n",
    "[More context available here](http://people.bu.edu/andasari/courses/Fall2015/LectureNotes/Lecture9_1Oct2015.pdf)\n",
    "\n",
    "[Original code adapted from here](http://people.bu.edu/andasari/courses/numericalpython/python.html)"
   ]
  },
  {
   "cell_type": "markdown",
   "metadata": {},
   "source": [
    "## Setup"
   ]
  },
  {
   "cell_type": "markdown",
   "metadata": {},
   "source": [
    "* Code written in Jupyter Lab\n",
    "* SageMath 8.9 Kernel"
   ]
  },
  {
   "cell_type": "code",
   "execution_count": 4,
   "metadata": {},
   "outputs": [],
   "source": [
    "import numpy as np\n",
    "import matplotlib.pyplot as plt\n",
    "from scipy import integrate\n",
    "from math import sin"
   ]
  },
  {
   "cell_type": "code",
   "execution_count": 5,
   "metadata": {},
   "outputs": [],
   "source": [
    "def feval(funcName, *args):\n",
    "    return eval(funcName)(*args)"
   ]
  },
  {
   "cell_type": "markdown",
   "metadata": {},
   "source": [
    "## 4th order Runge-Kutta Method"
   ]
  },
  {
   "cell_type": "code",
   "execution_count": 6,
   "metadata": {},
   "outputs": [],
   "source": [
    "def rungekutta(func, yinit, x_range, h):\n",
    "    m = len(yinit)\n",
    "    n = int((x_range[-1] - x_range[0])/h)\n",
    "    \n",
    "    x = x_range[0]\n",
    "    y = yinit\n",
    "    \n",
    "    # Containers for solutions\n",
    "    xsol = np.empty(0)\n",
    "    xsol = np.append(xsol, x)\n",
    "\n",
    "    ysol = np.empty(0)\n",
    "    ysol = np.append(ysol, y)\n",
    "\n",
    "    for i in range(n):\n",
    "        k1 = feval(func, x, y)\n",
    "\n",
    "        yp2 = y + k1*(h/2)\n",
    "\n",
    "        k2 = feval(func, x+h/2, yp2)\n",
    "\n",
    "        yp3 = y + k2*(h/2)\n",
    "\n",
    "        k3 = feval(func, x+h/2, yp3)\n",
    "\n",
    "        yp4 = y + k3*h\n",
    "\n",
    "        k4 = feval(func, x+h, yp4)\n",
    "\n",
    "        for j in range(m):\n",
    "            y[j] = y[j] + (h/6)*(k1[j] + 2*k2[j] + 2*k3[j] + k4[j])\n",
    "\n",
    "        x = x + h\n",
    "        xsol = np.append(xsol, x)\n",
    "\n",
    "        for r in range(len(y)):\n",
    "            ysol = np.append(ysol, y[r])  \n",
    "\n",
    "    return [xsol, ysol]\n"
   ]
  },
  {
   "cell_type": "markdown",
   "metadata": {},
   "source": [
    "## Comparison"
   ]
  },
  {
   "cell_type": "markdown",
   "metadata": {},
   "source": [
    "Create a function"
   ]
  },
  {
   "cell_type": "code",
   "execution_count": 7,
   "metadata": {},
   "outputs": [],
   "source": [
    "def myFunc(x, y):\n",
    "    dy = np.zeros((len(y)))\n",
    "    #dy[0] = np.exp(-2*x) - 2*y[0]\n",
    "    dy[0] = sin(x)\n",
    "    return dy"
   ]
  },
  {
   "cell_type": "code",
   "execution_count": null,
   "metadata": {},
   "outputs": [],
   "source": []
  },
  {
   "cell_type": "markdown",
   "metadata": {},
   "source": [
    "Initial conditions"
   ]
  },
  {
   "cell_type": "code",
   "execution_count": 8,
   "metadata": {},
   "outputs": [],
   "source": [
    "step = 0.1\n",
    "xRange = np.array([0.0, 1])\n",
    "y0 = np.array([0.0])"
   ]
  },
  {
   "cell_type": "markdown",
   "metadata": {},
   "source": [
    "Run numerical solvers"
   ]
  },
  {
   "cell_type": "code",
   "execution_count": 9,
   "metadata": {},
   "outputs": [],
   "source": [
    "[ts, yRK] = rungekutta('myFunc', y0, xRange, step)"
   ]
  },
  {
   "cell_type": "markdown",
   "metadata": {},
   "source": [
    "Exact solution (numerical)"
   ]
  },
  {
   "cell_type": "code",
   "execution_count": 19,
   "metadata": {},
   "outputs": [],
   "source": [
    "dt = int((xRange[-1]-xRange[0])/step)\n",
    "t = [xRange[0]+i*step for i in range(dt+1)] \n",
    "yexact = []\n",
    "for i in range(dt+1):\n",
    "    #ye = (0.1)*np.exp(-2*t[i]) + t[i]*np.exp(-2*t[i])\n",
    "    ye = -cos(t[i])+1\n",
    "    yexact.append(ye)"
   ]
  },
  {
   "cell_type": "markdown",
   "metadata": {},
   "source": [
    "Compare exact with each Runge-Kutta method"
   ]
  },
  {
   "cell_type": "code",
   "execution_count": 20,
   "metadata": {},
   "outputs": [
    {
     "name": "stdout",
     "output_type": "stream",
     "text": [
      "('Maximum difference for 4th order RK =', 0.45969769413186023)\n"
     ]
    }
   ],
   "source": [
    "diff = yRK[:1] - yexact\n",
    "print(\"Maximum difference for 4th order RK =\", np.max(abs(diff)))"
   ]
  },
  {
   "cell_type": "markdown",
   "metadata": {},
   "source": [
    "Plot the solutions"
   ]
  },
  {
   "cell_type": "code",
   "execution_count": 21,
   "metadata": {},
   "outputs": [
    {
     "data": {
      "image/png": "[encoded data removed]",
      "text/plain": [
       "<Figure size 432x288 with 1 Axes>"
      ]
     },
     "metadata": {
      "needs_background": "light"
     },
     "output_type": "display_data"
    }
   ],
   "source": [
    "plt.plot(ts, yRK, 'or')\n",
    "plt.plot(t, yexact, '+b')\n",
    "plt.xlim(xRange[0], xRange[1])\n",
    "plt.legend([\"4th Order RK\",\"Exact solution\"], loc=1)\n",
    "plt.xlabel('x', fontsize=17)\n",
    "plt.ylabel('y', fontsize=17)\n",
    "plt.tight_layout()\n",
    "plt.show()"
   ]
  },
  {
   "cell_type": "markdown",
   "metadata": {},
   "source": [
    "Export the figure"
   ]
  },
  {
   "cell_type": "code",
   "execution_count": null,
   "metadata": {},
   "outputs": [],
   "source": [
    "#plt.savefig('Fig_ex2_RK4_h0p1.png', dpi=600)"
   ]
  },
  {
   "cell_type": "code",
   "execution_count": null,
   "metadata": {},
   "outputs": [],
   "source": []
  }
 ],
 "metadata": {
  "kernelspec": {
   "display_name": "SageMath 8.9",
   "language": "sage",
   "name": "sagemath"
  },
  "language_info": {
   "codemirror_mode": {
    "name": "ipython",
    "version": 2
   },
   "file_extension": ".py",
   "mimetype": "text/x-python",
   "name": "python",
   "nbconvert_exporter": "python",
   "pygments_lexer": "ipython2",
   "version": "2.7.16"
  }
 },
 "nbformat": 4,
 "nbformat_minor": 4
}
