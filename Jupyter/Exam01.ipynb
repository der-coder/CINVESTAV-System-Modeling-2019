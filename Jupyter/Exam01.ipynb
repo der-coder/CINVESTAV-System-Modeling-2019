{
 "cells": [
  {
   "cell_type": "markdown",
   "metadata": {},
   "source": [
    "# Exam 01 - System Modeling"
   ]
  },
  {
   "cell_type": "markdown",
   "metadata": {},
   "source": [
    "Author: Isaac Ayala Lozano\n",
    "\n",
    "Code available at: \n",
    "Use Jupyter's nbviewer to visualise the notebook in your browser: https://nbviewer.jupyter.org/"
   ]
  },
  {
   "cell_type": "markdown",
   "metadata": {},
   "source": [
    "# Import libraries\n",
    "Code made in Jupyter using the SageMath 8.9 kernel"
   ]
  },
  {
   "cell_type": "code",
   "execution_count": 1,
   "metadata": {},
   "outputs": [],
   "source": [
    "import numpy as np # Linar Algrebra Operations\n",
    "import scipy as sp # ODE solvers\n",
    "import math as mt # Math functions"
   ]
  },
  {
   "cell_type": "markdown",
   "metadata": {},
   "source": [
    "## Problem \\# 01"
   ]
  },
  {
   "cell_type": "markdown",
   "metadata": {},
   "source": [
    "### Initial Conditions"
   ]
  },
  {
   "cell_type": "code",
   "execution_count": 2,
   "metadata": {},
   "outputs": [],
   "source": [
    "m_car = 3 # Kilograms\n",
    "m_pendulum = 1 # Kilograms\n",
    "l_pendulum = 1.5 # Meters\n",
    "k_ip = 0.5 # Newton/meter\n",
    "g = 9.81 # meter/second^2\n",
    "f_spring = 0 # Newton\n",
    "f_theta = 0 # Newton\n",
    "t = [0,10] # Evaluation time\n",
    "x0_ip = np.array([]) # Initial conditions"
   ]
  },
  {
   "cell_type": "markdown",
   "metadata": {},
   "source": [
    "### Equations of the system"
   ]
  },
  {
   "cell_type": "code",
   "execution_count": null,
   "metadata": {},
   "outputs": [],
   "source": [
    "def invertedPendulum(t, x):\n",
    "    dx = np.zeros((len(x))) # Create the matrix to store the values\n",
    "        \n",
    "    pos = x[0]  # Define state variables\n",
    "    d_pos = x[1]\n",
    "    theta = x[2]\n",
    "    d_theta = x[3]\n",
    "\n",
    "    # Define matrix of the syste\n",
    "    # Such that A d2_q + b = forces\n",
    "    \n",
    "    A = np.array([[m_pendulum + m_car,0.5*m_pendulum*mt.cos(theta)],[0.5*m_pendulum*l_pendulum*mt.cos(theta), m_pendulum*(l^2)] ])\n",
    "\n",
    "    b = np.array([[],[]])\n",
    "    \n",
    "    forces = np.array([[f_spring],[f_theta]])\n",
    "    \n",
    "    x_sol = np.matmul(np.linalg.inv(A),forces-b)\n",
    "    \n",
    "    dx[0]= d_pos\n",
    "    dx[1] = x_sol[0]\n",
    "    dx[2]= d_theta\n",
    "    dx[3] = x_sol[1]\n",
    "    \n",
    "    return dx"
   ]
  },
  {
   "cell_type": "markdown",
   "metadata": {},
   "source": [
    "Evaluate the function and store the values. Scipy's solve_ivp function will use RK45 by default."
   ]
  },
  {
   "cell_type": "code",
   "execution_count": null,
   "metadata": {},
   "outputs": [],
   "source": [
    "resultsInvertedPendulum = integrate.solve_ivp(invertedPendulum,[0,10],x0_ip, max_step=0.05)"
   ]
  },
  {
   "cell_type": "markdown",
   "metadata": {},
   "source": [
    "Plot the results."
   ]
  },
  {
   "cell_type": "markdown",
   "metadata": {},
   "source": [
    "## Problem \\# 02"
   ]
  },
  {
   "cell_type": "code",
   "execution_count": null,
   "metadata": {},
   "outputs": [],
   "source": []
  }
 ],
 "metadata": {
  "kernelspec": {
   "display_name": "SageMath 8.9",
   "language": "sage",
   "name": "sagemath"
  },
  "language_info": {
   "codemirror_mode": {
    "name": "ipython",
    "version": 2
   },
   "file_extension": ".py",
   "mimetype": "text/x-python",
   "name": "python",
   "nbconvert_exporter": "python",
   "pygments_lexer": "ipython2",
   "version": "2.7.16"
  }
 },
 "nbformat": 4,
 "nbformat_minor": 4
}
