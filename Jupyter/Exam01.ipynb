{
 "cells": [
  {
   "cell_type": "markdown",
   "metadata": {},
   "source": [
    "# Exam 01 - System Modeling"
   ]
  },
  {
   "cell_type": "markdown",
   "metadata": {},
   "source": [
    "Author: Isaac Ayala Lozano"
   ]
  },
  {
   "cell_type": "markdown",
   "metadata": {},
   "source": [
    "# Import libraries\n",
    "Code made in Jupyter using the SageMath 8.9 kernel"
   ]
  },
  {
   "cell_type": "code",
   "execution_count": null,
   "metadata": {},
   "outputs": [],
   "source": [
    "import numpy as np # Linar Algrebra Operations\n",
    "from scipy import integrate # ODE solvers\n",
    "import math as mt # Math functions\n",
    "import matplotlib.pyplot as plt # Graph functions"
   ]
  },
  {
   "cell_type": "markdown",
   "metadata": {},
   "source": [
    "## Problem \\# 01"
   ]
  },
  {
   "cell_type": "markdown",
   "metadata": {},
   "source": [
    "### Initial Conditions"
   ]
  },
  {
   "cell_type": "code",
   "execution_count": null,
   "metadata": {},
   "outputs": [],
   "source": [
    "m_car = 3 # Kilograms\n",
    "m_pendulum = 1 # Kilograms\n",
    "l_pendulum = 1.5 # Meters\n",
    "k_ip = 0.5 # Newton/meter\n",
    "g = 9.81 # meter/second^2\n",
    "f_spring = 0 \n",
    "f_theta = 0 \n",
    "t = [0,10] # Evaluation time\n",
    "x0_ip = np.array([1.0,1.0,n(pi*3/4),0]) # Initial conditions"
   ]
  },
  {
   "cell_type": "markdown",
   "metadata": {},
   "source": [
    "### Equations of the system"
   ]
  },
  {
   "cell_type": "code",
   "execution_count": null,
   "metadata": {},
   "outputs": [],
   "source": [
    "def invertedPendulum(t, x):\n",
    "    dx = np.zeros((len(x))) # Create the matrix to store the values\n",
    "        \n",
    "    pos = x[0]  # Define state variables\n",
    "    d_pos = x[1]\n",
    "    theta = x[2]\n",
    "    d_theta = x[3]\n",
    "\n",
    "    # Define matrix of the syste\n",
    "    # Such that A d2_q + b = forces\n",
    "    \n",
    "    A = np.array([[m_pendulum + m_car,0.5*m_pendulum*mt.cos(theta)],\n",
    "                  [0.5*m_pendulum*l_pendulum*mt.cos(theta), m_pendulum*(l_pendulum^2)] ])\n",
    "\n",
    "    b = np.array([[-0.5*m_pendulum*(d_theta^2)*mt.sin(theta)],\n",
    "                  [-0.5*m_pendulum*l_pendulum*d_theta*d_pos*mt.sin(theta)+\n",
    "                   0.5*m_pendulum*d_pos*l_pendulum*d_theta*mt.sin(theta)-\n",
    "                   m_pendulum*g*l_pendulum*mt.sin(theta)]])\n",
    "    \n",
    "    forces = np.array([[f_spring],[f_theta]])\n",
    "    \n",
    "    x_sol = np.matmul(np.linalg.inv(A),forces-b)\n",
    "    \n",
    "    dx[0]= d_pos\n",
    "    dx[1] = x_sol[0]\n",
    "    dx[2]= d_theta\n",
    "    dx[3] = x_sol[1]\n",
    "    \n",
    "    return dx"
   ]
  },
  {
   "cell_type": "markdown",
   "metadata": {},
   "source": [
    "Evaluate the function and store the values. Scipy's solve_ivp function will use RK45 by default."
   ]
  },
  {
   "cell_type": "code",
   "execution_count": null,
   "metadata": {},
   "outputs": [],
   "source": [
    "f_spring= 0\n",
    "f_theta = 0\n",
    "resultsInvertedPendulum = integrate.solve_ivp(invertedPendulum,[0,10],x0_ip,  max_step=0.05)\n",
    "\n",
    "f_spring= 1\n",
    "f_theta = 0\n",
    "resultsInvertedPendulum2 = integrate.solve_ivp(invertedPendulum,[0,10],x0_ip,  max_step=0.05)"
   ]
  },
  {
   "cell_type": "markdown",
   "metadata": {},
   "source": [
    "Plot the results."
   ]
  },
  {
   "cell_type": "markdown",
   "metadata": {},
   "source": [
    "Case $F = 0$"
   ]
  },
  {
   "cell_type": "code",
   "execution_count": null,
   "metadata": {},
   "outputs": [],
   "source": [
    "xs = np.transpose(resultsInvertedPendulum.y)\n",
    "ts = np.transpose(resultsInvertedPendulum.t)\n",
    "\n",
    "\n",
    "plt.rc('text', usetex=True)\n",
    "plt.rc('font', family='serif')\n",
    "\n",
    "plt.figure(num=1,figsize=(15,10))\n",
    "plt.plot(ts, xs[:,0],\"--k\",ts,xs[:,2],\"k\", linewidth=6)\n",
    "plt.xlim(0, 12)\n",
    "plt.legend([u'$x$',u'$\\\\theta$'], loc=5,fontsize=60,frameon=False)\n",
    "plt.xlabel(u'Tiempo', fontsize=40)\n",
    "plt.tick_params(labelsize='30')\n",
    "plt.ylabel(u\"Soluci\\\\'on\", fontsize=40)\n",
    "plt.title(u\"Comparaci\\\\'on de $x$ y $\\\\theta$\",fontsize=80)\n",
    "plt.tight_layout()\n",
    "\n",
    "plt.figure(num=2,figsize=(15,10))\n",
    "plt.plot(ts, xs[:,1],\"--k\",ts,xs[:,3],\"k\", linewidth=5)\n",
    "plt.xlim(0, 15)\n",
    "plt.legend([u'$\\dot{x}$',u'$\\dot{\\\\theta}$'], loc=5,fontsize=60,frameon=False)\n",
    "plt.xlabel(u'Tiempo', fontsize=40)\n",
    "plt.tick_params(labelsize='30')\n",
    "plt.ylabel(u\"Soluci\\\\'on\", fontsize=40)\n",
    "plt.title(u\"Comparaci\\\\'on de $\\dot{x}$ y $\\dot{\\\\theta}$\",fontsize=80)\n",
    "plt.tight_layout()\n",
    "    \n",
    "    \n",
    "plt.figure(num=3,figsize=(15,10))\n",
    "plt.plot(xs[:,0],xs[:,1],\"k\", linewidth=5)\n",
    "plt.xlabel(u'$x$', fontsize=40)\n",
    "plt.tick_params(labelsize='30')\n",
    "plt.ylabel(u\"$\\dot{x}$\", fontsize=40)\n",
    "plt.title(u\"Diagrama fase de $x$ y $\\dot{x}$\",fontsize=80)\n",
    "plt.tight_layout()\n",
    "\n",
    "plt.figure(num=4,figsize=(15,10))\n",
    "plt.plot(xs[:,2],xs[:,3],\"k\", linewidth=5)\n",
    "plt.xlabel(u'$\\\\theta$', fontsize=40)\n",
    "plt.tick_params(labelsize='30')\n",
    "plt.ylabel(u\"$\\dot{\\\\theta}$\", fontsize=40)\n",
    "plt.title(u\"Diagrama fase de $\\\\theta$ y $\\dot{\\\\theta}$\",fontsize=80)\n",
    "plt.tight_layout()  \n"
   ]
  },
  {
   "cell_type": "markdown",
   "metadata": {},
   "source": [
    "Case $F = 1$"
   ]
  },
  {
   "cell_type": "code",
   "execution_count": null,
   "metadata": {},
   "outputs": [],
   "source": [
    "xs2 = np.transpose(resultsInvertedPendulum2.y)\n",
    "ts2 = np.transpose(resultsInvertedPendulum2.t)\n",
    "\n",
    "plt.figure(num=11,figsize=(15,10))\n",
    "plt.plot(ts2, xs2[:,0],\"--k\",ts2,xs2[:,2],\"k\", linewidth=5)\n",
    "plt.xlim(0, 12)\n",
    "plt.legend([u'$x$',u'$\\\\theta$'], loc=5,fontsize=60,frameon=False)\n",
    "plt.xlabel(u'Tiempo', fontsize=40)\n",
    "plt.tick_params(labelsize='30')\n",
    "plt.ylabel(u\"Soluci\\\\'on\", fontsize=40)\n",
    "plt.title(u\"Comparaci\\\\'on de $x$ y $\\\\theta$\",fontsize=80)\n",
    "plt.tight_layout()\n",
    "\n",
    "plt.figure(num=12,figsize=(15,10))\n",
    "plt.plot(ts2, xs2[:,1],\"--k\",ts2,xs2[:,3],\"k\", linewidth=5)\n",
    "plt.xlim(0, 15)\n",
    "plt.legend([u'$\\dot{x}$',u'$\\dot{\\\\theta}$'], loc=5,fontsize=60,frameon=False)\n",
    "plt.xlabel(u'Tiempo', fontsize=40)\n",
    "plt.tick_params(labelsize='30')\n",
    "plt.ylabel(u\"Soluci\\\\'on\", fontsize=40)\n",
    "plt.title(u\"Comparaci\\\\'on de $\\dot{x}$ y $\\dot{\\\\theta}$\",fontsize=80)\n",
    "plt.tight_layout()\n",
    "    \n",
    "    \n",
    "plt.figure(num=13,figsize=(15,10))\n",
    "plt.plot(xs2[:,0],xs2[:,1],\"k\", linewidth=5)\n",
    "plt.xlabel(u'$x$', fontsize=40)\n",
    "plt.tick_params(labelsize='30')\n",
    "plt.ylabel(u\"$\\dot{x}$\", fontsize=40)\n",
    "plt.title(u\"Diagrama fase de $x$ y $\\dot{x}$\",fontsize=80)\n",
    "plt.tight_layout()\n",
    "\n",
    "plt.figure(num=14,figsize=(15,10))\n",
    "plt.plot(xs2[:,2],xs2[:,3],\"k\", linewidth=5)\n",
    "plt.xlabel(u'$\\\\theta$', fontsize=40)\n",
    "plt.tick_params(labelsize='30')\n",
    "plt.ylabel(u\"$\\dot{\\\\theta}$\", fontsize=40)\n",
    "plt.title(u\"Diagrama fase de $\\\\theta$ y $\\dot{\\\\theta}$\",fontsize=80)\n",
    "plt.tight_layout()  \n"
   ]
  },
  {
   "cell_type": "markdown",
   "metadata": {},
   "source": [
    "## Problem \\# 02"
   ]
  },
  {
   "cell_type": "markdown",
   "metadata": {},
   "source": [
    "### Initial Conditions"
   ]
  },
  {
   "cell_type": "code",
   "execution_count": null,
   "metadata": {},
   "outputs": [],
   "source": [
    "m = 1 # Kilograms\n",
    "l = 1.5 # Meters\n",
    "k = 0.5 # Newton/meter\n",
    "# Gravity is already defined in Problem 1\n",
    "f_1 = 0 \n",
    "f_2 = 0 \n",
    "# Evaluation time is already defined in Problem 1\n",
    "x0_sp = np.array([1.0,1.0,1.0,1.0]) # Initial conditions"
   ]
  },
  {
   "cell_type": "markdown",
   "metadata": {},
   "source": [
    "### Equations of the system"
   ]
  },
  {
   "cell_type": "code",
   "execution_count": null,
   "metadata": {},
   "outputs": [],
   "source": [
    "def simplePendulum(t, x):\n",
    "    dx = np.zeros((len(x))) # Create the matrix to store the values\n",
    "        \n",
    "    pos = x[0]  # Define state variables\n",
    "    d_pos = x[1]\n",
    "    theta = x[2]\n",
    "    d_theta = x[3]\n",
    "\n",
    "    # Define matrix of the syste\n",
    "    # Such that A d2_q + b = forces\n",
    "    \n",
    "    A = np.array([[m, m*l*mt.cos(theta)],\n",
    "                  [l*mt.cos(theta),m*(l^2)] ])\n",
    "\n",
    "    b = np.array([[-m*l*(d_theta^2)*mt.sin(theta)],\n",
    "                  [-l*(d_pos^2)*mt.sin(theta)+m*d_pos*d_theta*l*mt.sin(theta)]])\n",
    "    \n",
    "    forces = np.array([[f_1],[f_2]])\n",
    "    \n",
    "    x_sol = np.matmul(np.linalg.inv(A),forces-b)\n",
    "    \n",
    "    dx[0]= d_pos\n",
    "    dx[1] = x_sol[0]\n",
    "    dx[2]= d_theta\n",
    "    dx[3] = x_sol[1]\n",
    "    \n",
    "    return dx"
   ]
  },
  {
   "cell_type": "markdown",
   "metadata": {},
   "source": [
    "Evaluate the function and store the values. Scipy's solve_ivp function will use RK45 by default."
   ]
  },
  {
   "cell_type": "code",
   "execution_count": null,
   "metadata": {},
   "outputs": [],
   "source": [
    "f_1= 0\n",
    "f_2 = 0\n",
    "resultssimplePendulum = integrate.solve_ivp(simplePendulum,[0,10],x0_sp,  max_step=0.05)\n",
    "\n",
    "f_1 = 1\n",
    "f_2 = 0\n",
    "resultssimplePendulum2 = integrate.solve_ivp(simplePendulum,[0,10],x0_sp,  max_step=0.05)"
   ]
  },
  {
   "cell_type": "markdown",
   "metadata": {},
   "source": [
    "Plot the results."
   ]
  },
  {
   "cell_type": "markdown",
   "metadata": {},
   "source": [
    "Case $F = 0$"
   ]
  },
  {
   "cell_type": "code",
   "execution_count": null,
   "metadata": {},
   "outputs": [],
   "source": [
    "xs3 = np.transpose(resultssimplePendulum.y)\n",
    "ts3 = np.transpose(resultssimplePendulum.t)\n",
    "\n",
    "plt.figure(num=21,figsize=(15,10))\n",
    "plt.plot(ts3, xs3[:,0],\"--k\",ts3,xs3[:,2],\"k\", linewidth=5)\n",
    "plt.xlim(0, 12)\n",
    "plt.legend([u'$x$',u'$\\\\theta$'], loc=5,fontsize=60,frameon=False)\n",
    "plt.xlabel(u'Tiempo', fontsize=40)\n",
    "plt.tick_params(labelsize='30')\n",
    "plt.ylabel(u\"Soluci\\\\'on\", fontsize=40)\n",
    "plt.title(u\"Comparaci\\\\'on de $x$ y $\\\\theta$\",fontsize=80)\n",
    "plt.tight_layout()\n",
    "\n",
    "plt.figure(num=22,figsize=(15,10))\n",
    "plt.plot(ts3, xs3[:,1],\"--k\",ts3,xs3[:,3],\"k\", linewidth=5)\n",
    "plt.xlim(0, 15)\n",
    "plt.legend([u'$\\dot{x}$',u'$\\dot{\\\\theta}$'], loc=5,fontsize=60,frameon=False)\n",
    "plt.xlabel(u'Tiempo', fontsize=40)\n",
    "plt.tick_params(labelsize='30')\n",
    "plt.ylabel(u\"Soluci\\\\'on\", fontsize=40)\n",
    "plt.title(u\"Comparaci\\\\'on de $\\dot{x}$ y $\\dot{\\\\theta}$\",fontsize=80)\n",
    "plt.tight_layout()\n",
    "    \n",
    "    \n",
    "plt.figure(num=23,figsize=(15,10))\n",
    "plt.plot(xs3[:,0],xs3[:,1],\"k\", linewidth=5)\n",
    "plt.xlabel(u'$x$', fontsize=40)\n",
    "plt.tick_params(labelsize='30')\n",
    "plt.ylabel(u\"$\\dot{x}$\", fontsize=40)\n",
    "plt.title(u\"Diagrama fase de $x$ y $\\dot{x}$\",fontsize=80)\n",
    "plt.tight_layout()\n",
    "\n",
    "plt.figure(num=24,figsize=(15,10))\n",
    "plt.plot(xs3[:,2],xs3[:,3],\"k\", linewidth=5)\n",
    "plt.xlabel(u'$\\\\theta$', fontsize=40)\n",
    "plt.tick_params(labelsize='30')\n",
    "plt.ylabel(u\"$\\dot{\\\\theta}$\", fontsize=40)\n",
    "plt.title(u\"Diagrama fase de $\\\\theta$ y $\\dot{\\\\theta}$\",fontsize=80)\n",
    "plt.tight_layout()  \n"
   ]
  },
  {
   "cell_type": "markdown",
   "metadata": {},
   "source": [
    "Case $F = 1$"
   ]
  },
  {
   "cell_type": "code",
   "execution_count": null,
   "metadata": {},
   "outputs": [],
   "source": [
    "xs4 = np.transpose(resultssimplePendulum2.y)\n",
    "ts4 = np.transpose(resultssimplePendulum2.t)\n",
    "\n",
    "plt.figure(num=31,figsize=(15,10))\n",
    "plt.plot(ts4, xs4[:,0],\"--k\",ts4,xs4[:,2],\"k\", linewidth=5)\n",
    "plt.xlim(0, 12)\n",
    "plt.legend([u'$x$',u'$\\\\theta$'], loc=5,fontsize=60,frameon=False)\n",
    "plt.xlabel(u'Tiempo', fontsize=40)\n",
    "plt.tick_params(labelsize='30')\n",
    "plt.ylabel(u\"Soluci\\\\'on\", fontsize=40)\n",
    "plt.title(u\"Comparaci\\\\'on de $x$ y $\\\\theta$\",fontsize=80)\n",
    "plt.tight_layout()\n",
    "\n",
    "plt.figure(num=32,figsize=(15,10))\n",
    "plt.plot(ts4, xs4[:,1],\"--k\",ts4,xs4[:,3],\"k\", linewidth=5)\n",
    "plt.xlim(0, 15)\n",
    "plt.legend([u'$\\dot{x}$',u'$\\dot{\\\\theta}$'], loc=5,fontsize=60,frameon=False)\n",
    "plt.xlabel(u'Tiempo', fontsize=40)\n",
    "plt.tick_params(labelsize='30')\n",
    "plt.ylabel(u\"Soluci\\\\'on\", fontsize=40)\n",
    "plt.title(u\"Comparaci\\\\'on de $\\dot{x}$ y $\\dot{\\\\theta}$\",fontsize=80)\n",
    "plt.tight_layout()\n",
    "    \n",
    "    \n",
    "plt.figure(num=33,figsize=(15,10))\n",
    "plt.plot(xs4[:,0],xs4[:,1],\"k\", linewidth=5)\n",
    "plt.xlabel(u'$x$', fontsize=40)\n",
    "plt.tick_params(labelsize='30')\n",
    "plt.ylabel(u\"$\\dot{x}$\", fontsize=40)\n",
    "plt.title(u\"Diagrama fase de $x$ y $\\dot{x}$\",fontsize=80)\n",
    "plt.tight_layout()\n",
    "\n",
    "plt.figure(num=34,figsize=(15,10))\n",
    "plt.plot(xs4[:,2],xs4[:,3],\"k\", linewidth=5)\n",
    "plt.xlabel(u'$\\\\theta$', fontsize=40)\n",
    "plt.tick_params(labelsize='30')\n",
    "plt.ylabel(u\"$\\dot{\\\\theta}$\", fontsize=40)\n",
    "plt.title(u\"Diagrama fase de $\\\\theta$ y $\\dot{\\\\theta}$\",fontsize=80)\n",
    "plt.tight_layout()  \n"
   ]
  },
  {
   "cell_type": "code",
   "execution_count": null,
   "metadata": {},
   "outputs": [],
   "source": []
  }
 ],
 "metadata": {
  "kernelspec": {
   "display_name": "SageMath 8.9",
   "language": "sage",
   "name": "sagemath"
  },
  "language_info": {
   "codemirror_mode": {
    "name": "ipython",
    "version": 2
   },
   "file_extension": ".py",
   "mimetype": "text/x-python",
   "name": "python",
   "nbconvert_exporter": "python",
   "pygments_lexer": "ipython2",
   "version": "2.7.17"
  }
 },
 "nbformat": 4,
 "nbformat_minor": 4
}
